{
 "cells": [
  {
   "cell_type": "code",
   "execution_count": 81,
   "id": "30a0d21a",
   "metadata": {},
   "outputs": [
    {
     "name": "stdout",
     "output_type": "stream",
     "text": [
      "[(469, 'Latitude= 47.275337 Longitude= -2.294765\\n'), (505, 'Latitude= 47.275272 Longitude= -2.294804\\n'), (538, 'Latitude= 47.275581 Longitude= -2.294675\\n'), (570, 'Latitude= 47.275566 Longitude= -2.294688\\n'), (607, 'Latitude= 47.275558 Longitude= -2.294687\\n'), (644, 'Latitude= 47.275554 Longitude= -2.294681\\n'), (681, 'Latitude= 47.275554 Longitude= -2.294676\\n'), (717, 'Latitude= 47.275554 Longitude= -2.294672\\n'), (753, 'Latitude= 47.275554 Longitude= -2.294673\\n'), (789, 'Latitude= 47.275569 Longitude= -2.294674\\n'), (844, 'Latitude= 47.275600 Longitude= -2.294645\\n'), (875, 'Latitude= 47.275619 Longitude= -2.294637\\n'), (911, 'Latitude= 47.275657 Longitude= -2.294625\\n'), (947, 'Latitude= 47.275665 Longitude= -2.294627\\n'), (983, 'Latitude= 47.275665 Longitude= -2.294657\\n'), (1018, 'Latitude= 47.275650 Longitude= -2.294679\\n'), (1053, 'Latitude= 47.275619 Longitude= -2.294690\\n'), (1089, 'Latitude= 47.275585 Longitude= -2.294715\\n'), (1125, 'Latitude= 47.275558 Longitude= -2.294727\\n'), (1161, 'Latitude= 47.275539 Longitude= -2.294747\\n'), (1197, 'Latitude= 47.275550 Longitude= -2.294787\\n'), (1233, 'Latitude= 47.275562 Longitude= -2.294832\\n'), (1268, 'Latitude= 47.275577 Longitude= -2.294852\\n'), (1304, 'Latitude= 47.275585 Longitude= -2.294868\\n'), (1355, 'Latitude= 47.275592 Longitude= -2.294968\\n'), (1386, 'Latitude= 47.275596 Longitude= -2.294910\\n'), (1468, 'Latitude= 47.275577 Longitude= -2.294951\\n'), (1504, 'Latitude= 47.275554 Longitude= -2.294942\\n'), (1540, 'Latitude= 47.275531 Longitude= -2.294920\\n'), (1576, 'Latitude= 47.275497 Longitude= -2.294870\\n'), (1613, 'Latitude= 47.275485 Longitude= -2.294858\\n'), (1649, 'Latitude= 47.275493 Longitude= -2.294855\\n'), (1685, 'Latitude= 47.275501 Longitude= -2.294842\\n'), (1722, 'Latitude= 47.275497 Longitude= -2.294812\\n'), (1759, 'Latitude= 47.275493 Longitude= -2.294780\\n'), (1795, 'Latitude= 47.275489 Longitude= -2.294751\\n'), (1831, 'Latitude= 47.275493 Longitude= -2.294726\\n'), (1867, 'Latitude= 47.275497 Longitude= -2.294703\\n'), (1904, 'Latitude= 47.275497 Longitude= -2.294676\\n'), (1941, 'Latitude= 47.275501 Longitude= -2.294648\\n'), (1978, 'Latitude= 47.275501 Longitude= -2.294615\\n'), (2015, 'Latitude= 47.275501 Longitude= -2.294585\\n'), (2052, 'Latitude= 47.275505 Longitude= -2.294550\\n'), (2089, 'Latitude= 47.275520 Longitude= -2.294531\\n'), (2126, 'Latitude= 47.275547 Longitude= -2.294524\\n'), (2162, 'Latitude= 47.275566 Longitude= -2.294520\\n'), (2199, 'Latitude= 47.275596 Longitude= -2.294521\\n'), (2236, 'Latitude= 47.275634 Longitude= -2.294511\\n'), (2273, 'Latitude= 47.275665 Longitude= -2.294507\\n'), (2310, 'Latitude= 47.275657 Longitude= -2.294524\\n'), (2347, 'Latitude= 47.275653 Longitude= -2.294553\\n'), (2384, 'Latitude= 47.275661 Longitude= -2.294566\\n'), (2421, 'Latitude= 47.275646 Longitude= -2.294568\\n'), (2457, 'Latitude= 47.275604 Longitude= -2.294571\\n'), (2494, 'Latitude= 47.275573 Longitude= -2.294594\\n'), (2531, 'Latitude= 47.275581 Longitude= -2.294620\\n'), (2568, 'Latitude= 47.275592 Longitude= -2.294656\\n'), (2605, 'Latitude= 47.275615 Longitude= -2.294645\\n'), (2655, 'Latitude= 47.275608 Longitude= -2.294831\\n'), (2691, 'Latitude= 47.275550 Longitude= -2.294629\\n'), (2727, 'Latitude= 47.275554 Longitude= -2.294677\\n'), (2762, 'Latitude= 47.275539 Longitude= -2.294670\\n'), (2820, 'Latitude= 47.275455 Longitude= -2.294645\\n'), (2856, 'Latitude= 47.275493 Longitude= -2.294660\\n'), (2892, 'Latitude= 47.275489 Longitude= -2.294660\\n'), (2928, 'Latitude= 47.275489 Longitude= -2.294658\\n'), (2964, 'Latitude= 47.275493 Longitude= -2.294656\\n'), (3001, 'Latitude= 47.275493 Longitude= -2.294656\\n'), (3036, 'Latitude= 47.275516 Longitude= -2.294673\\n'), (3072, 'Latitude= 47.275550 Longitude= -2.294675\\n'), (3107, 'Latitude= 47.275573 Longitude= -2.294672\\n'), (3144, 'Latitude= 47.275577 Longitude= -2.294669\\n'), (3181, 'Latitude= 47.275588 Longitude= -2.294668\\n')]\n"
     ]
    }
   ],
   "source": [
    "infile = r\"./gps.log\"\n",
    "\n",
    "lat_lon = []\n",
    "keep_phrases = [\"Latitude=\"]\n",
    "\n",
    "with open(infile) as f:\n",
    "    lines = f.readlines()\n",
    "\n",
    "for i, line in enumerate(lines):\n",
    "    for phrase in keep_phrases:\n",
    "        if phrase in line:\n",
    "            lat_lon.append((i, line))\n",
    "            break\n",
    "\n",
    "print(lat_lon)"
   ]
  },
  {
   "cell_type": "code",
   "execution_count": 104,
   "id": "9e14692d",
   "metadata": {},
   "outputs": [
    {
     "data": {
      "text/html": [
       "<div>\n",
       "<style scoped>\n",
       "    .dataframe tbody tr th:only-of-type {\n",
       "        vertical-align: middle;\n",
       "    }\n",
       "\n",
       "    .dataframe tbody tr th {\n",
       "        vertical-align: top;\n",
       "    }\n",
       "\n",
       "    .dataframe thead th {\n",
       "        text-align: right;\n",
       "    }\n",
       "</style>\n",
       "<table border=\"1\" class=\"dataframe\">\n",
       "  <thead>\n",
       "    <tr style=\"text-align: right;\">\n",
       "      <th></th>\n",
       "      <th>line</th>\n",
       "      <th>latitude</th>\n",
       "      <th>longitude</th>\n",
       "    </tr>\n",
       "  </thead>\n",
       "  <tbody>\n",
       "    <tr>\n",
       "      <th>0</th>\n",
       "      <td>644</td>\n",
       "      <td>47.275554</td>\n",
       "      <td>-2.294681</td>\n",
       "    </tr>\n",
       "    <tr>\n",
       "      <th>1</th>\n",
       "      <td>681</td>\n",
       "      <td>47.275554</td>\n",
       "      <td>-2.294676</td>\n",
       "    </tr>\n",
       "    <tr>\n",
       "      <th>2</th>\n",
       "      <td>717</td>\n",
       "      <td>47.275554</td>\n",
       "      <td>-2.294672</td>\n",
       "    </tr>\n",
       "    <tr>\n",
       "      <th>3</th>\n",
       "      <td>753</td>\n",
       "      <td>47.275554</td>\n",
       "      <td>-2.294673</td>\n",
       "    </tr>\n",
       "    <tr>\n",
       "      <th>4</th>\n",
       "      <td>789</td>\n",
       "      <td>47.275569</td>\n",
       "      <td>-2.294674</td>\n",
       "    </tr>\n",
       "    <tr>\n",
       "      <th>...</th>\n",
       "      <td>...</td>\n",
       "      <td>...</td>\n",
       "      <td>...</td>\n",
       "    </tr>\n",
       "    <tr>\n",
       "      <th>63</th>\n",
       "      <td>3036</td>\n",
       "      <td>47.275516</td>\n",
       "      <td>-2.294673</td>\n",
       "    </tr>\n",
       "    <tr>\n",
       "      <th>64</th>\n",
       "      <td>3072</td>\n",
       "      <td>47.275550</td>\n",
       "      <td>-2.294675</td>\n",
       "    </tr>\n",
       "    <tr>\n",
       "      <th>65</th>\n",
       "      <td>3107</td>\n",
       "      <td>47.275573</td>\n",
       "      <td>-2.294672</td>\n",
       "    </tr>\n",
       "    <tr>\n",
       "      <th>66</th>\n",
       "      <td>3144</td>\n",
       "      <td>47.275577</td>\n",
       "      <td>-2.294669</td>\n",
       "    </tr>\n",
       "    <tr>\n",
       "      <th>67</th>\n",
       "      <td>3181</td>\n",
       "      <td>47.275588</td>\n",
       "      <td>-2.294668</td>\n",
       "    </tr>\n",
       "  </tbody>\n",
       "</table>\n",
       "<p>68 rows × 3 columns</p>\n",
       "</div>"
      ],
      "text/plain": [
       "    line   latitude  longitude\n",
       "0    644  47.275554  -2.294681\n",
       "1    681  47.275554  -2.294676\n",
       "2    717  47.275554  -2.294672\n",
       "3    753  47.275554  -2.294673\n",
       "4    789  47.275569  -2.294674\n",
       "..   ...        ...        ...\n",
       "63  3036  47.275516  -2.294673\n",
       "64  3072  47.275550  -2.294675\n",
       "65  3107  47.275573  -2.294672\n",
       "66  3144  47.275577  -2.294669\n",
       "67  3181  47.275588  -2.294668\n",
       "\n",
       "[68 rows x 3 columns]"
      ]
     },
     "execution_count": 104,
     "metadata": {},
     "output_type": "execute_result"
    }
   ],
   "source": [
    "import pandas as pd\n",
    "df = pd.DataFrame(\n",
    "    [[i] + coords[len('Latitude= '):-1].split(' Longitude= ') for i, coords in lat_lon[5:]], \n",
    "    columns=['line', 'latitude', 'longitude'],\n",
    "    dtype=float\n",
    ")\n",
    "df.line = df.line.astype(int)\n",
    "df"
   ]
  },
  {
   "cell_type": "code",
   "execution_count": 105,
   "id": "75f572ff",
   "metadata": {},
   "outputs": [
    {
     "data": {
      "text/plain": [
       "0      644\n",
       "1      681\n",
       "2      717\n",
       "3      753\n",
       "4      789\n",
       "      ... \n",
       "63    3036\n",
       "64    3072\n",
       "65    3107\n",
       "66    3144\n",
       "67    3181\n",
       "Name: line, Length: 68, dtype: int64"
      ]
     },
     "execution_count": 105,
     "metadata": {},
     "output_type": "execute_result"
    }
   ],
   "source": [
    "df.line"
   ]
  },
  {
   "cell_type": "code",
   "execution_count": 106,
   "id": "917d1482",
   "metadata": {},
   "outputs": [
    {
     "data": {
      "text/plain": [
       "0      644\n",
       "1      681\n",
       "2      717\n",
       "3      753\n",
       "4      789\n",
       "      ... \n",
       "63    3036\n",
       "64    3072\n",
       "65    3107\n",
       "66    3144\n",
       "67    3181\n",
       "Name: line, Length: 68, dtype: int64"
      ]
     },
     "execution_count": 106,
     "metadata": {},
     "output_type": "execute_result"
    }
   ],
   "source": [
    "df.line"
   ]
  },
  {
   "cell_type": "code",
   "execution_count": 116,
   "id": "1fbddcb7",
   "metadata": {},
   "outputs": [
    {
     "data": {
      "text/html": [
       "<div>\n",
       "<style scoped>\n",
       "    .dataframe tbody tr th:only-of-type {\n",
       "        vertical-align: middle;\n",
       "    }\n",
       "\n",
       "    .dataframe tbody tr th {\n",
       "        vertical-align: top;\n",
       "    }\n",
       "\n",
       "    .dataframe thead th {\n",
       "        text-align: right;\n",
       "    }\n",
       "</style>\n",
       "<table border=\"1\" class=\"dataframe\">\n",
       "  <thead>\n",
       "    <tr style=\"text-align: right;\">\n",
       "      <th></th>\n",
       "      <th>line</th>\n",
       "      <th>latitude</th>\n",
       "      <th>longitude</th>\n",
       "      <th>time</th>\n",
       "      <th>nb_sat</th>\n",
       "      <th>hdop</th>\n",
       "    </tr>\n",
       "  </thead>\n",
       "  <tbody>\n",
       "    <tr>\n",
       "      <th>0</th>\n",
       "      <td>644</td>\n",
       "      <td>47.275554</td>\n",
       "      <td>-2.294681</td>\n",
       "      <td>14051300</td>\n",
       "      <td>6</td>\n",
       "      <td>224</td>\n",
       "    </tr>\n",
       "    <tr>\n",
       "      <th>1</th>\n",
       "      <td>681</td>\n",
       "      <td>47.275554</td>\n",
       "      <td>-2.294676</td>\n",
       "      <td>14051600</td>\n",
       "      <td>6</td>\n",
       "      <td>224</td>\n",
       "    </tr>\n",
       "    <tr>\n",
       "      <th>2</th>\n",
       "      <td>717</td>\n",
       "      <td>47.275554</td>\n",
       "      <td>-2.294672</td>\n",
       "      <td>14051900</td>\n",
       "      <td>6</td>\n",
       "      <td>224</td>\n",
       "    </tr>\n",
       "    <tr>\n",
       "      <th>3</th>\n",
       "      <td>753</td>\n",
       "      <td>47.275554</td>\n",
       "      <td>-2.294673</td>\n",
       "      <td>14052200</td>\n",
       "      <td>6</td>\n",
       "      <td>224</td>\n",
       "    </tr>\n",
       "    <tr>\n",
       "      <th>4</th>\n",
       "      <td>789</td>\n",
       "      <td>47.275569</td>\n",
       "      <td>-2.294674</td>\n",
       "      <td>14052500</td>\n",
       "      <td>6</td>\n",
       "      <td>224</td>\n",
       "    </tr>\n",
       "    <tr>\n",
       "      <th>...</th>\n",
       "      <td>...</td>\n",
       "      <td>...</td>\n",
       "      <td>...</td>\n",
       "      <td>...</td>\n",
       "      <td>...</td>\n",
       "      <td>...</td>\n",
       "    </tr>\n",
       "    <tr>\n",
       "      <th>63</th>\n",
       "      <td>3036</td>\n",
       "      <td>47.275516</td>\n",
       "      <td>-2.294673</td>\n",
       "      <td>14083700</td>\n",
       "      <td>0</td>\n",
       "      <td>9999</td>\n",
       "    </tr>\n",
       "    <tr>\n",
       "      <th>64</th>\n",
       "      <td>3072</td>\n",
       "      <td>47.275550</td>\n",
       "      <td>-2.294675</td>\n",
       "      <td>14084000</td>\n",
       "      <td>0</td>\n",
       "      <td>9999</td>\n",
       "    </tr>\n",
       "    <tr>\n",
       "      <th>65</th>\n",
       "      <td>3107</td>\n",
       "      <td>47.275573</td>\n",
       "      <td>-2.294672</td>\n",
       "      <td>14084300</td>\n",
       "      <td>0</td>\n",
       "      <td>9999</td>\n",
       "    </tr>\n",
       "    <tr>\n",
       "      <th>66</th>\n",
       "      <td>3144</td>\n",
       "      <td>47.275577</td>\n",
       "      <td>-2.294669</td>\n",
       "      <td>14084600</td>\n",
       "      <td>0</td>\n",
       "      <td>9999</td>\n",
       "    </tr>\n",
       "    <tr>\n",
       "      <th>67</th>\n",
       "      <td>3181</td>\n",
       "      <td>47.275588</td>\n",
       "      <td>-2.294668</td>\n",
       "      <td>14084900</td>\n",
       "      <td>0</td>\n",
       "      <td>9999</td>\n",
       "    </tr>\n",
       "  </tbody>\n",
       "</table>\n",
       "<p>68 rows × 6 columns</p>\n",
       "</div>"
      ],
      "text/plain": [
       "    line   latitude  longitude      time  nb_sat  hdop\n",
       "0    644  47.275554  -2.294681  14051300       6   224\n",
       "1    681  47.275554  -2.294676  14051600       6   224\n",
       "2    717  47.275554  -2.294672  14051900       6   224\n",
       "3    753  47.275554  -2.294673  14052200       6   224\n",
       "4    789  47.275569  -2.294674  14052500       6   224\n",
       "..   ...        ...        ...       ...     ...   ...\n",
       "63  3036  47.275516  -2.294673  14083700       0  9999\n",
       "64  3072  47.275550  -2.294675  14084000       0  9999\n",
       "65  3107  47.275573  -2.294672  14084300       0  9999\n",
       "66  3144  47.275577  -2.294669  14084600       0  9999\n",
       "67  3181  47.275588  -2.294668  14084900       0  9999\n",
       "\n",
       "[68 rows x 6 columns]"
      ]
     },
     "execution_count": 116,
     "metadata": {},
     "output_type": "execute_result"
    }
   ],
   "source": [
    "def enrich(df, offset, extractor):\n",
    "    return df.line.apply(lambda nb: extractor(lines[nb + offset]))\n",
    "\n",
    "df['time'] = enrich(df, 9, lambda line: line.split(\" = \")[1].rstrip()).astype('int')\n",
    "df['nb_sat'] = enrich(df, 26, lambda line: line.split(\" = \")[1].rstrip()).astype('int')\n",
    "df['hdop'] = enrich(df, 27, lambda line: line.split(\" = \")[1].rstrip()).astype('int')\n",
    "df"
   ]
  },
  {
   "cell_type": "markdown",
   "id": "6617a5e3",
   "metadata": {},
   "source": [
    "## Plotting on map\n",
    "https://pypi.org/project/gmplot/"
   ]
  },
  {
   "cell_type": "code",
   "execution_count": 117,
   "id": "9a136555",
   "metadata": {},
   "outputs": [
    {
     "data": {
      "text/plain": [
       "(-2.294968, -2.294507, 47.275455, 47.275665)"
      ]
     },
     "execution_count": 117,
     "metadata": {},
     "output_type": "execute_result"
    }
   ],
   "source": [
    "BBox = (df.longitude.min(),   df.longitude.max(),      \n",
    "        df.latitude.min(), df.latitude.max())\n",
    "BBox"
   ]
  },
  {
   "cell_type": "code",
   "execution_count": 118,
   "id": "313394c3",
   "metadata": {},
   "outputs": [
    {
     "data": {
      "text/html": [
       "\n",
       "        <iframe\n",
       "            width=\"600\"\n",
       "            height=\"500\"\n",
       "            src=\"./map.html\"\n",
       "            frameborder=\"0\"\n",
       "            allowfullscreen\n",
       "        ></iframe>\n",
       "        "
      ],
      "text/plain": [
       "<IPython.lib.display.IFrame at 0x12e2d5250>"
      ]
     },
     "execution_count": 118,
     "metadata": {},
     "output_type": "execute_result"
    }
   ],
   "source": [
    "import gmplot\n",
    "from IPython.display import IFrame\n",
    "\n",
    "# Create the map plotter:\n",
    "apikey = open('api.key', 'r').readline().rstrip() # (your API key here)\n",
    "def getMap(df):\n",
    "    gmap = gmplot.GoogleMapPlotter(df.latitude.mean(), df.longitude.mean(), 25, apikey=apikey, map_type='hybrid',\n",
    "                                   fit_bounds={\n",
    "                                       'north': df.latitude.max(), \n",
    "                                       'south': df.latitude.min(), \n",
    "                                       'east': df.longitude.max(), \n",
    "                                       'west': df.longitude.min()\n",
    "                                   })\n",
    "\n",
    "    gmap.plot(df.latitude, df.longitude, color='cornflowerblue', edge_width=10)\n",
    "\n",
    "    gmap.scatter(df.latitude, df.longitude, color='#3B0B39', size=0.4, marker=False)\n",
    "\n",
    "    # Mark a hidden gem:\n",
    "    # gmap.marker(37.770776, -122.461689, color='cornflowerblue')\n",
    "\n",
    "    # Draw the map:\n",
    "    gmap.draw('map.html')\n",
    "    return IFrame(src='./map.html', width=600, height=500)\n",
    "\n",
    "getMap(df)"
   ]
  },
  {
   "cell_type": "code",
   "execution_count": 120,
   "id": "343014c2",
   "metadata": {},
   "outputs": [
    {
     "data": {
      "application/vnd.jupyter.widget-view+json": {
       "model_id": "56e0b41b842c4b2eb7f8019848418a0a",
       "version_major": 2,
       "version_minor": 0
      },
      "text/plain": [
       "interactive(children=(IntSlider(value=0, description='i', max=68), IntSlider(value=68, description='j', max=68…"
      ]
     },
     "metadata": {},
     "output_type": "display_data"
    }
   ],
   "source": [
    "from ipywidgets import *\n",
    "def update(i = IntSlider(0, 0, len(df)), j = IntSlider(len(df), 0, len(df))):\n",
    "    # print(df.iloc[i:j].hdop)\n",
    "    return getMap(df.iloc[i:j])\n",
    "\n",
    "interact(update);"
   ]
  },
  {
   "cell_type": "code",
   "execution_count": null,
   "id": "febb5748",
   "metadata": {},
   "outputs": [],
   "source": []
  }
 ],
 "metadata": {
  "kernelspec": {
   "display_name": "all",
   "language": "python",
   "name": "all"
  },
  "language_info": {
   "codemirror_mode": {
    "name": "ipython",
    "version": 3
   },
   "file_extension": ".py",
   "mimetype": "text/x-python",
   "name": "python",
   "nbconvert_exporter": "python",
   "pygments_lexer": "ipython3",
   "version": "3.9.12"
  }
 },
 "nbformat": 4,
 "nbformat_minor": 5
}
